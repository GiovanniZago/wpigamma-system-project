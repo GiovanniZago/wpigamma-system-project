{
 "cells": [
  {
   "cell_type": "code",
   "execution_count": 1,
   "id": "d49aa2ec",
   "metadata": {},
   "outputs": [],
   "source": [
    "import config \n",
    "import uproot"
   ]
  },
  {
   "cell_type": "code",
   "execution_count": 3,
   "id": "94992f56",
   "metadata": {},
   "outputs": [
    {
     "name": "stdout",
     "output_type": "stream",
     "text": [
      "['run', 'luminosityBlock', 'event', 'bunchCrossing', 'orbitNumber', 'nEle', 'Ele_hwEta', 'Ele_hwPhi', 'Ele_hwPt', 'Ele_hwQual', 'Ele_quality', 'Ele_eta', 'Ele_idScore', 'Ele_mass', 'Ele_phi', 'Ele_pt', 'Ele_puppiIsol', 'Ele_puppiIsolPV', 'Ele_trkIsol', 'Ele_trkIsolPV', 'Ele_z0', 'nGenEle', 'GenEle_isFromTau', 'GenEle_isPrompt', 'GenEle_motherId', 'GenEle_dxy', 'GenEle_eta', 'GenEle_mass', 'GenEle_phi', 'GenEle_pt', 'GenEle_z0', 'nGenJet', 'GenJet_eta', 'GenJet_mass', 'GenJet_phi', 'GenJet_pt', 'nGenPho', 'GenPho_isFromTau', 'GenPho_isPrompt', 'GenPho_motherId', 'GenPho_dxy', 'GenPho_eta', 'GenPho_mass', 'GenPho_phi', 'GenPho_pt', 'GenPho_z0', 'nGenPi', 'GenPi_charge', 'GenPi_pdgId', 'GenPi_prompt', 'GenPi_eta', 'GenPi_mass', 'GenPi_phi', 'GenPi_pt', 'GenPi_z0', 'GenVtx_x', 'GenVtx_y', 'GenVtx_z', 'nGenW', 'GenW_charge', 'GenW_pdgId', 'GenW_eta', 'GenW_mass', 'GenW_phi', 'GenW_pt', 'GenW_z0', 'nL1Vtx', 'L1Vtx_sumpt', 'L1Vtx_z', 'nPho', 'Pho_hwEta', 'Pho_hwPhi', 'Pho_hwPt', 'Pho_hwQual', 'Pho_quality', 'Pho_eta', 'Pho_mass', 'Pho_phi', 'Pho_pt', 'Pho_puppiIsol', 'Pho_puppiIsolPV', 'Pho_trkIsol', 'Pho_trkIsolPV', 'nPuppiJet', 'PuppiJet_eta', 'PuppiJet_mass', 'PuppiJet_phi', 'PuppiJet_pt', 'PuppiJet_btagScore', 'nPuppi', 'Puppi_charge', 'Puppi_pdgId', 'Puppi_eta', 'Puppi_mass', 'Puppi_phi', 'Puppi_pt', 'Puppi_z0', 'Ele_GenEleFlav', 'Ele_GenEleIdx', 'Pho_GenPhoFlav', 'Pho_GenPhoIdx', 'Puppi_GenPiFlav', 'Puppi_GenPiIdx']\n"
     ]
    }
   ],
   "source": [
    "f = uproot.open(config.DATA + \"/l1Nano_WPiGamma_PU200.root\")\n",
    "tree = f[\"Events\"]\n",
    "print(tree.keys())\n",
    "branches = tree.arrays()"
   ]
  },
  {
   "cell_type": "code",
   "execution_count": 6,
   "id": "4bf0ff2d",
   "metadata": {},
   "outputs": [
    {
     "data": {
      "text/html": [
       "<pre>[[-1.31, 2.91, 2.49, 1.65, 1.47, 2.1, ..., -2.43, -1.07, 1.95, 3.08, 1.11],\n",
       " [0.218, -2.91, -0.288, 1.25, 2.21, ..., 1.06, 1.34, -1.46, 1.28, -0.271],\n",
       " [-1.93, -0.951, 2.45, -1.25, -2.4, 1.25, ..., -0.584, 3.1, -1.88, 2.71, -1.02],\n",
       " [-0.253, -1.46, 0.759, -0.628, 0.672, -2, ..., -1.89, 1.49, 2.38, -1.09, 2.64],\n",
       " [0.532, -0.0614, 2.75, -0.532, 0.654, ..., -2.7, 0.742, 0.357, 2.59, 3.13],\n",
       " [1.54, -2.24, 2.98, -2.85, -0.881, 2.09, ..., -3.13, 1.2, 2.98, 0.462, 0.357],\n",
       " [1.75, -0.305, -0.183, 1.35, 0.375, ..., -0.568, 0.498, -1.44, 2.19, 2.24],\n",
       " [2.54, -2.14, -3.05, 2.43, -1.35, -2.99, ..., -1.7, -2.19, 2.31, 2.17, 1.67],\n",
       " [1.65, 1.7, 2.16, 1.14, 1.46, -1.11, ..., -2.33, 2.31, -1.34, -2.16, 2.1],\n",
       " [2.69, 0.114, -1.21, 2.59, -2.17, ..., -2.23, -2.68, -0.166, -0.183, 1.88],\n",
       " ...,\n",
       " [-0.847, 2.84, 2.84, 1.06, -2.12, 0.445, ..., 1.28, -2.35, -2.4, 1.27, 1.63],\n",
       " [1.34, 2.61, -0.48, 0.305, 1.34, ..., -2.33, 1.02, 0.532, -0.253, -0.707],\n",
       " [1.11, -1.69, 1.6, -1.67, 1.68, ..., 0.0261, -2.85, 2.24, -0.654, 1.35],\n",
       " [-2.74, 0.0959, 0.0614, 0.166, 0.148, ..., -2.21, 1.04, -2.43, 0.0959, 2.99],\n",
       " [1.25, -2.53, -0.0614, 0.969, 2.96, ..., -0.864, -2.21, 2.63, -2.98, 1.06],\n",
       " [0.864, -1.68, 2.89, 1.61, -1.89, 0.672, ..., 2.21, 1.61, -1.23, 2.98, 2.07],\n",
       " [2.92, -0.271, 3.1, 2.45, -0.0261, ..., -0.917, -0.357, 1.74, 0.986, 0.568],\n",
       " [-0.724, 1.46, 0.515, 2.92, 1.39, ..., -1.56, 1.06, 2.98, -0.131, -0.0614],\n",
       " [-2.63, 0.445, 1.93, -1.51, -1.06, ..., -2.36, 2.23, -2.59, -0.829, 0.777]]\n",
       "--------------------------------------------------------------------------------\n",
       "type: 22044 * var * float32</pre>"
      ],
      "text/plain": [
       "<Array [[-1.31, 2.91, 2.49, ..., 3.08, 1.11], ...] type='22044 * var * float32'>"
      ]
     },
     "execution_count": 6,
     "metadata": {},
     "output_type": "execute_result"
    }
   ],
   "source": [
    "branches[\"Pho_phi\"]"
   ]
  },
  {
   "cell_type": "code",
   "execution_count": 7,
   "id": "dc2e33ac",
   "metadata": {},
   "outputs": [],
   "source": [
    "f.close()"
   ]
  }
 ],
 "metadata": {
  "kernelspec": {
   "display_name": "test-env",
   "language": "python",
   "name": "python3"
  },
  "language_info": {
   "codemirror_mode": {
    "name": "ipython",
    "version": 3
   },
   "file_extension": ".py",
   "mimetype": "text/x-python",
   "name": "python",
   "nbconvert_exporter": "python",
   "pygments_lexer": "ipython3",
   "version": "3.8.10"
  }
 },
 "nbformat": 4,
 "nbformat_minor": 5
}
