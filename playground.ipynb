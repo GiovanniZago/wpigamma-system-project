{
 "cells": [
  {
   "cell_type": "code",
   "execution_count": 31,
   "id": "d49aa2ec",
   "metadata": {},
   "outputs": [],
   "source": [
    "import config \n",
    "import uproot\n",
    "import numpy as np"
   ]
  },
  {
   "cell_type": "code",
   "execution_count": 11,
   "id": "94992f56",
   "metadata": {},
   "outputs": [
    {
     "name": "stdout",
     "output_type": "stream",
     "text": [
      "['run', 'luminosityBlock', 'event', 'bunchCrossing', 'orbitNumber', 'nEle', 'Ele_hwEta', 'Ele_hwPhi', 'Ele_hwPt', 'Ele_hwQual', 'Ele_quality', 'Ele_eta', 'Ele_idScore', 'Ele_mass', 'Ele_phi', 'Ele_pt', 'Ele_puppiIsol', 'Ele_puppiIsolPV', 'Ele_trkIsol', 'Ele_trkIsolPV', 'Ele_z0', 'nGenEle', 'GenEle_isFromTau', 'GenEle_isPrompt', 'GenEle_motherId', 'GenEle_dxy', 'GenEle_eta', 'GenEle_mass', 'GenEle_phi', 'GenEle_pt', 'GenEle_z0', 'nGenJet', 'GenJet_eta', 'GenJet_mass', 'GenJet_phi', 'GenJet_pt', 'nGenPho', 'GenPho_isFromTau', 'GenPho_isPrompt', 'GenPho_motherId', 'GenPho_dxy', 'GenPho_eta', 'GenPho_mass', 'GenPho_phi', 'GenPho_pt', 'GenPho_z0', 'nGenPi', 'GenPi_charge', 'GenPi_pdgId', 'GenPi_prompt', 'GenPi_eta', 'GenPi_mass', 'GenPi_phi', 'GenPi_pt', 'GenPi_z0', 'GenVtx_x', 'GenVtx_y', 'GenVtx_z', 'nGenW', 'GenW_charge', 'GenW_pdgId', 'GenW_eta', 'GenW_mass', 'GenW_phi', 'GenW_pt', 'GenW_z0', 'nL1Vtx', 'L1Vtx_sumpt', 'L1Vtx_z', 'nPho', 'Pho_hwEta', 'Pho_hwPhi', 'Pho_hwPt', 'Pho_hwQual', 'Pho_quality', 'Pho_eta', 'Pho_mass', 'Pho_phi', 'Pho_pt', 'Pho_puppiIsol', 'Pho_puppiIsolPV', 'Pho_trkIsol', 'Pho_trkIsolPV', 'nPuppiJet', 'PuppiJet_eta', 'PuppiJet_mass', 'PuppiJet_phi', 'PuppiJet_pt', 'PuppiJet_btagScore', 'nPuppi', 'Puppi_charge', 'Puppi_pdgId', 'Puppi_eta', 'Puppi_mass', 'Puppi_phi', 'Puppi_pt', 'Puppi_z0', 'Ele_GenEleFlav', 'Ele_GenEleIdx', 'Pho_GenPhoFlav', 'Pho_GenPhoIdx', 'Puppi_GenPiFlav', 'Puppi_GenPiIdx']\n"
     ]
    }
   ],
   "source": [
    "f = uproot.open(config.DATA + \"/l1Nano_WPiGamma_PU200.root\")\n",
    "tree = f[\"Events\"]\n",
    "print(tree.keys())\n",
    "branches = tree.arrays()"
   ]
  },
  {
   "cell_type": "code",
   "execution_count": 174,
   "id": "e6449624",
   "metadata": {},
   "outputs": [],
   "source": [
    "event_index = 2"
   ]
  },
  {
   "cell_type": "code",
   "execution_count": 175,
   "id": "46577b26",
   "metadata": {},
   "outputs": [
    {
     "data": {
      "text/plain": [
       "[38.0, 3.5, 2.75, 2.5, 2.5, 2.25, 2.0, 2.0, 2.0, 2.0, 1.75, 1.75]"
      ]
     },
     "execution_count": 175,
     "metadata": {},
     "output_type": "execute_result"
    }
   ],
   "source": [
    "branches[\"Pho_pt\"][event_index].to_list()"
   ]
  },
  {
   "cell_type": "code",
   "execution_count": 176,
   "id": "4bf0ff2d",
   "metadata": {},
   "outputs": [
    {
     "data": {
      "text/html": [
       "<pre>[0,\n",
       " -1,\n",
       " -1,\n",
       " -1,\n",
       " -1,\n",
       " -1,\n",
       " -1,\n",
       " -1,\n",
       " -1,\n",
       " -1,\n",
       " -1,\n",
       " -1]\n",
       "----------------\n",
       "type: 12 * int16</pre>"
      ],
      "text/plain": [
       "<Array [0, -1, -1, -1, -1, -1, -1, -1, -1, -1, -1, -1] type='12 * int16'>"
      ]
     },
     "execution_count": 176,
     "metadata": {},
     "output_type": "execute_result"
    }
   ],
   "source": [
    "branches[\"Pho_GenPhoIdx\"][event_index]"
   ]
  },
  {
   "cell_type": "code",
   "execution_count": 177,
   "id": "d3f48b76",
   "metadata": {},
   "outputs": [
    {
     "data": {
      "text/html": [
       "<pre>---------------\n",
       "type: 0 * int16</pre>"
      ],
      "text/plain": [
       "<Array [] type='0 * int16'>"
      ]
     },
     "execution_count": 177,
     "metadata": {},
     "output_type": "execute_result"
    }
   ],
   "source": [
    "branches[\"Ele_GenEleIdx\"][event_index]"
   ]
  },
  {
   "cell_type": "code",
   "execution_count": 178,
   "id": "1fc969e1",
   "metadata": {},
   "outputs": [
    {
     "data": {
      "text/html": [
       "<pre>[0,\n",
       " -1,\n",
       " -1,\n",
       " -1,\n",
       " -1,\n",
       " -1,\n",
       " -1,\n",
       " -1,\n",
       " -1,\n",
       " -1,\n",
       " -1,\n",
       " -1,\n",
       " -1,\n",
       " -1,\n",
       " -1,\n",
       " -1,\n",
       " -1]\n",
       "----------------\n",
       "type: 17 * int16</pre>"
      ],
      "text/plain": [
       "<Array [0, -1, -1, -1, -1, -1, ..., -1, -1, -1, -1, -1, -1] type='17 * int16'>"
      ]
     },
     "execution_count": 178,
     "metadata": {},
     "output_type": "execute_result"
    }
   ],
   "source": [
    "branches[\"Puppi_GenPiIdx\"][event_index]"
   ]
  },
  {
   "cell_type": "code",
   "execution_count": 179,
   "id": "d1f92e8a",
   "metadata": {},
   "outputs": [
    {
     "data": {
      "text/plain": [
       "True"
      ]
     },
     "execution_count": 179,
     "metadata": {},
     "output_type": "execute_result"
    }
   ],
   "source": [
    "np.any(branches[\"Puppi_GenPiIdx\"][event_index] == 0)"
   ]
  },
  {
   "cell_type": "code",
   "execution_count": 180,
   "id": "dc2e33ac",
   "metadata": {},
   "outputs": [],
   "source": [
    "f.close()"
   ]
  }
 ],
 "metadata": {
  "kernelspec": {
   "display_name": "test-env",
   "language": "python",
   "name": "python3"
  },
  "language_info": {
   "codemirror_mode": {
    "name": "ipython",
    "version": 3
   },
   "file_extension": ".py",
   "mimetype": "text/x-python",
   "name": "python",
   "nbconvert_exporter": "python",
   "pygments_lexer": "ipython3",
   "version": "3.8.10"
  }
 },
 "nbformat": 4,
 "nbformat_minor": 5
}
