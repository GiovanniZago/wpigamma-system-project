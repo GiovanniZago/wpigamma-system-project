{
 "cells": [
  {
   "cell_type": "code",
   "execution_count": 1,
   "id": "d49aa2ec",
   "metadata": {},
   "outputs": [],
   "source": [
    "import config \n",
    "import uproot"
   ]
  },
  {
   "cell_type": "code",
   "execution_count": 2,
   "id": "94992f56",
   "metadata": {},
   "outputs": [
    {
     "name": "stdout",
     "output_type": "stream",
     "text": [
      "['run', 'luminosityBlock', 'event', 'bunchCrossing', 'orbitNumber', 'nEle', 'Ele_hwEta', 'Ele_hwPhi', 'Ele_hwPt', 'Ele_hwQual', 'Ele_quality', 'Ele_eta', 'Ele_idScore', 'Ele_mass', 'Ele_phi', 'Ele_pt', 'Ele_puppiIsol', 'Ele_puppiIsolPV', 'Ele_trkIsol', 'Ele_trkIsolPV', 'Ele_z0', 'nGenEle', 'GenEle_isFromTau', 'GenEle_isPrompt', 'GenEle_motherId', 'GenEle_dxy', 'GenEle_eta', 'GenEle_mass', 'GenEle_phi', 'GenEle_pt', 'GenEle_z0', 'nGenJet', 'GenJet_eta', 'GenJet_mass', 'GenJet_phi', 'GenJet_pt', 'nGenPho', 'GenPho_isFromTau', 'GenPho_isPrompt', 'GenPho_motherId', 'GenPho_dxy', 'GenPho_eta', 'GenPho_mass', 'GenPho_phi', 'GenPho_pt', 'GenPho_z0', 'nGenPi', 'GenPi_charge', 'GenPi_pdgId', 'GenPi_prompt', 'GenPi_eta', 'GenPi_mass', 'GenPi_phi', 'GenPi_pt', 'GenPi_z0', 'GenVtx_x', 'GenVtx_y', 'GenVtx_z', 'nGenW', 'GenW_charge', 'GenW_pdgId', 'GenW_eta', 'GenW_mass', 'GenW_phi', 'GenW_pt', 'GenW_z0', 'nL1Vtx', 'L1Vtx_sumpt', 'L1Vtx_z', 'nPho', 'Pho_hwEta', 'Pho_hwPhi', 'Pho_hwPt', 'Pho_hwQual', 'Pho_quality', 'Pho_eta', 'Pho_mass', 'Pho_phi', 'Pho_pt', 'Pho_puppiIsol', 'Pho_puppiIsolPV', 'Pho_trkIsol', 'Pho_trkIsolPV', 'nPuppiJet', 'PuppiJet_eta', 'PuppiJet_mass', 'PuppiJet_phi', 'PuppiJet_pt', 'PuppiJet_btagScore', 'nPuppi', 'Puppi_charge', 'Puppi_pdgId', 'Puppi_eta', 'Puppi_mass', 'Puppi_phi', 'Puppi_pt', 'Puppi_z0', 'Ele_GenEleFlav', 'Ele_GenEleIdx', 'Pho_GenPhoFlav', 'Pho_GenPhoIdx', 'Puppi_GenPiFlav', 'Puppi_GenPiIdx']\n"
     ]
    }
   ],
   "source": [
    "f = uproot.open(config.DATA + \"/l1Nano_WPiGamma_PU200.root\")\n",
    "tree = f[\"Events\"]\n",
    "print(tree.keys())\n",
    "branches = tree.arrays()"
   ]
  },
  {
   "cell_type": "code",
   "execution_count": 3,
   "id": "4bf0ff2d",
   "metadata": {},
   "outputs": [
    {
     "data": {
      "text/html": [
       "<pre>[[0, -1, -1, -1, -1, -1, -1, -1, -1, -1, -1, -1],\n",
       " [0, -1, -1, -1, -1, -1, -1, -1, -1, -1, -1, -1],\n",
       " [0, -1, -1, -1, -1, -1, -1, -1, -1, -1, -1, -1],\n",
       " [-1, -1, -1, -1, -1, -1, -1, -1, -1, -1, -1, -1],\n",
       " [0, -1, -1, -1, -1, -1, -1, -1, -1, -1, -1, -1],\n",
       " [-1, -1, -1, -1, -1, -1, -1, -1, -1, -1, -1, -1],\n",
       " [-1, -1, -1, -1, -1, -1, -1, -1, -1, -1, -1, -1],\n",
       " [-1, -1, -1, -1, -1, -1, -1, -1, -1, -1, -1, -1],\n",
       " [-1, -1, -1, -1, -1, -1, -1, -1, -1, -1, -1, -1],\n",
       " [-1, -1, -1, -1, -1, -1, -1, -1, -1, -1, -1, -1],\n",
       " ...,\n",
       " [0, -1, -1, -1, -1, -1, -1, -1, -1, -1, -1, -1],\n",
       " [-1, -1, -1, -1, -1, -1, -1, -1, -1, -1, -1, -1],\n",
       " [0, -1, -1, -1, -1, -1, -1, -1, -1, -1, -1, -1],\n",
       " [0, -1, -1, -1, -1, -1, -1, -1, -1, -1, -1, -1],\n",
       " [0, -1, -1, -1, -1, -1, -1, -1, -1, -1, -1, -1],\n",
       " [-1, -1, -1, -1, -1, -1, -1, -1, -1, -1, -1, -1],\n",
       " [0, -1, -1, -1, -1, -1, -1, -1, -1, -1, -1, -1],\n",
       " [-1, -1, -1, -1, -1, -1, -1, -1, -1, -1, -1, -1],\n",
       " [0, -1, -1, -1, -1, -1, -1, -1, -1, -1, -1, -1]]\n",
       "--------------------------------------------------\n",
       "type: 22044 * var * int16</pre>"
      ],
      "text/plain": [
       "<Array [[0, -1, -1, -1, ..., -1, -1, -1, -1], ...] type='22044 * var * int16'>"
      ]
     },
     "execution_count": 3,
     "metadata": {},
     "output_type": "execute_result"
    }
   ],
   "source": [
    "branches[\"Pho_GenPhoIdx\"]"
   ]
  },
  {
   "cell_type": "code",
   "execution_count": 4,
   "id": "940bcbb0",
   "metadata": {},
   "outputs": [
    {
     "data": {
      "text/html": [
       "<pre>[[-1, -1],\n",
       " [-1],\n",
       " [],\n",
       " [-1],\n",
       " [],\n",
       " [],\n",
       " [],\n",
       " [-1],\n",
       " [],\n",
       " [-1],\n",
       " ...,\n",
       " [-1, -1],\n",
       " [],\n",
       " [],\n",
       " [-1, -1],\n",
       " [-1],\n",
       " [],\n",
       " [-1],\n",
       " [],\n",
       " [-1]]\n",
       "-------------------------\n",
       "type: 22044 * var * int16</pre>"
      ],
      "text/plain": [
       "<Array [[-1, -1], [-1], [], ..., [-1], [], [-1]] type='22044 * var * int16'>"
      ]
     },
     "execution_count": 4,
     "metadata": {},
     "output_type": "execute_result"
    }
   ],
   "source": [
    "branches[\"Ele_GenEleIdx\"]"
   ]
  },
  {
   "cell_type": "code",
   "execution_count": 5,
   "id": "1fc969e1",
   "metadata": {},
   "outputs": [
    {
     "data": {
      "text/html": [
       "<pre>[[-1, -1, -1, -1, -1, -1, -1, -1, -1, ..., -1, -1, -1, -1, -1, -1, -1, -1, -1],\n",
       " [-1, -1, -1, 0, -1, -1, -1, -1, -1, ..., -1, -1, -1, -1, -1, -1, -1, -1, -1],\n",
       " [0, -1, -1, -1, -1, -1, -1, -1, -1, -1, -1, -1, -1, -1, -1, -1, -1],\n",
       " [-1, -1, -1, -1, -1, -1, -1, -1, -1, ..., -1, -1, -1, -1, 0, -1, -1, -1, -1],\n",
       " [-1, -1, -1, -1, -1, -1, -1, -1, -1, ..., -1, -1, -1, -1, -1, -1, -1, -1, -1],\n",
       " [-1, -1, -1, -1, -1, -1, -1, -1, -1, ..., -1, -1, -1, -1, -1, -1, -1, -1, -1],\n",
       " [-1, -1, -1, -1, -1, -1, -1, -1, -1, ..., -1, -1, -1, -1, -1, -1, -1, -1, -1],\n",
       " [-1, -1, -1, -1, 0, -1, -1, -1, -1, ..., -1, -1, -1, -1, -1, -1, -1, -1, -1],\n",
       " [-1, -1, -1, -1, -1, -1, -1, -1, -1, ..., -1, -1, -1, -1, -1, -1, -1, -1, -1],\n",
       " [-1, -1, -1, -1, -1, -1, -1, -1, -1, ..., -1, -1, -1, -1, -1, -1, -1, -1, -1],\n",
       " ...,\n",
       " [-1, -1, -1, -1, -1, -1, -1, -1, -1, ..., -1, -1, -1, -1, -1, -1, -1, -1, -1],\n",
       " [-1, -1, -1, -1, -1, -1, -1, -1, -1, ..., -1, -1, -1, -1, -1, -1, -1, -1, -1],\n",
       " [-1, -1, -1, -1, -1, -1, -1, -1, -1, ..., -1, -1, -1, -1, -1, -1, -1, -1, -1],\n",
       " [-1, -1, -1, -1, -1, -1, -1, -1, -1, ..., -1, -1, -1, -1, -1, -1, -1, -1, -1],\n",
       " [-1, -1, -1, -1, -1, -1, 0, -1, -1, ..., -1, -1, -1, -1, -1, -1, -1, -1, -1],\n",
       " [-1, -1, -1, -1, -1, -1, -1, -1, -1, ..., -1, -1, -1, -1, -1, -1, -1, -1, -1],\n",
       " [-1, -1, -1, -1, -1, -1, -1, -1, -1, ..., -1, -1, -1, -1, -1, -1, -1, -1, -1],\n",
       " [-1, -1, -1, -1, -1, -1, -1, -1, -1, ..., -1, -1, -1, -1, -1, -1, -1, -1, -1],\n",
       " [-1, -1, -1, -1, -1, -1, -1, -1, -1, ..., -1, -1, -1, -1, -1, -1, -1, -1, -1]]\n",
       "-------------------------------------------------------------------------------\n",
       "type: 22044 * var * int16</pre>"
      ],
      "text/plain": [
       "<Array [[-1, -1, -1, -1, ..., -1, -1, -1, -1], ...] type='22044 * var * int16'>"
      ]
     },
     "execution_count": 5,
     "metadata": {},
     "output_type": "execute_result"
    }
   ],
   "source": [
    "branches[\"Puppi_GenPiIdx\"]"
   ]
  },
  {
   "cell_type": "code",
   "execution_count": 6,
   "id": "dc2e33ac",
   "metadata": {},
   "outputs": [],
   "source": [
    "f.close()"
   ]
  }
 ],
 "metadata": {
  "kernelspec": {
   "display_name": "test-env",
   "language": "python",
   "name": "python3"
  },
  "language_info": {
   "codemirror_mode": {
    "name": "ipython",
    "version": 3
   },
   "file_extension": ".py",
   "mimetype": "text/x-python",
   "name": "python",
   "nbconvert_exporter": "python",
   "pygments_lexer": "ipython3",
   "version": "3.8.10"
  }
 },
 "nbformat": 4,
 "nbformat_minor": 5
}
